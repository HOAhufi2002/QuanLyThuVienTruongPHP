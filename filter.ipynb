{
 "cells": [
  {
   "cell_type": "code",
   "execution_count": 8,
   "metadata": {},
   "outputs": [
    {
     "name": "stdout",
     "output_type": "stream",
     "text": [
      "                               Unnamed: 0 Unnamed: 1 Unnamed: 2 Unnamed: 3  \\\n",
      "0                                     NaN        NaN        NaN        NaN   \n",
      "1                                     NaN        NaN        NaN        NaN   \n",
      "2  DANH SÁCH SINH VIÊN (DỰ KIẾN) ĐƯỢC CẤP        NaN        NaN        NaN   \n",
      "3           HỌC BỔNG KHUYẾN KHÍCH HỌC TẬP        NaN        NaN        NaN   \n",
      "4                       HK1 (2023 - 2024)        NaN        NaN        NaN   \n",
      "\n",
      "  Unnamed: 4 Unnamed: 5 Unnamed: 6 Unnamed: 7 Unnamed: 8 Unnamed: 9  \\\n",
      "0        NaN        NaN        NaN        NaN        NaN        NaN   \n",
      "1        NaN        NaN        NaN        NaN        NaN        NaN   \n",
      "2        NaN        NaN        NaN        NaN        NaN        NaN   \n",
      "3        NaN        NaN        NaN        NaN        NaN        NaN   \n",
      "4        NaN        NaN        NaN        NaN        NaN        NaN   \n",
      "\n",
      "  Unnamed: 10 Unnamed: 11 Unnamed: 12 Unnamed: 13 Unnamed: 14  \n",
      "0         NaN         NaN         NaN         NaN         NaN  \n",
      "1         NaN         NaN         NaN         NaN         NaN  \n",
      "2         NaN         NaN         NaN         NaN         NaN  \n",
      "3         NaN         NaN         NaN         NaN         NaN  \n",
      "4         NaN         NaN         NaN         NaN         NaN  \n"
     ]
    }
   ],
   "source": [
    "import pandas as pd\n",
    "\n",
    "# Đường dẫn tới file Excel\n",
    "file_path = 'C:\\\\xamp\\\\htdocs\\\\TruongHoc\\\\21.10KHOA CNTT - DANH SÁCH HỌC BỔNG HKI 23-24.xls'\n",
    "\n",
    "# Đọc file Excel\n",
    "df = pd.read_excel(file_path)\n",
    "\n",
    "# Hiển thị 5 dòng đầu tiên của dữ liệu\n",
    "print(df.head())\n"
   ]
  }
 ],
 "metadata": {
  "kernelspec": {
   "display_name": "base",
   "language": "python",
   "name": "python3"
  },
  "language_info": {
   "codemirror_mode": {
    "name": "ipython",
    "version": 3
   },
   "file_extension": ".py",
   "mimetype": "text/x-python",
   "name": "python",
   "nbconvert_exporter": "python",
   "pygments_lexer": "ipython3",
   "version": "3.11.7"
  }
 },
 "nbformat": 4,
 "nbformat_minor": 2
}
